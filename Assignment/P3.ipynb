{
  "nbformat": 4,
  "nbformat_minor": 0,
  "metadata": {
    "colab": {
      "provenance": [],
      "authorship_tag": "ABX9TyMpykDsk4+Sb8WXuoFL4U+f",
      "include_colab_link": true
    },
    "kernelspec": {
      "name": "python3",
      "display_name": "Python 3"
    },
    "language_info": {
      "name": "python"
    }
  },
  "cells": [
    {
      "cell_type": "markdown",
      "metadata": {
        "id": "view-in-github",
        "colab_type": "text"
      },
      "source": [
        "<a href=\"https://colab.research.google.com/github/Koder-Kartik/Python-Training/blob/main/Assignment/P3.ipynb\" target=\"_parent\"><img src=\"https://colab.research.google.com/assets/colab-badge.svg\" alt=\"Open In Colab\"/></a>"
      ]
    },
    {
      "cell_type": "code",
      "execution_count": 3,
      "metadata": {
        "colab": {
          "base_uri": "https://localhost:8080/"
        },
        "id": "I7GNtW_u1aHh",
        "outputId": "958f10e4-cb6e-4a92-a810-cf914398e75a"
      },
      "outputs": [
        {
          "output_type": "stream",
          "name": "stdout",
          "text": [
            "nth term is:  5\n",
            "Sum of Arithemetic series is:  35\n"
          ]
        }
      ],
      "source": [
        "a = [2, 5, 8, 11, 14, 17, 20]\n",
        "\n",
        "sum = 0\n",
        "\n",
        "APlength = len(a)\n",
        "\n",
        "for i in range(0, APlength):\n",
        "  if a[i] == a[APlength-1]:\n",
        "    print(\"nth term is: \",a[1])\n",
        "\n",
        "for i in range(0, APlength):\n",
        "  sum = sum + a[1]\n",
        "\n",
        "print(\"Sum of Arithemetic series is: \", sum)"
      ]
    }
  ]
}