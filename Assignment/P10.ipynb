{
  "nbformat": 4,
  "nbformat_minor": 0,
  "metadata": {
    "colab": {
      "provenance": [],
      "authorship_tag": "ABX9TyPnfkqcTAb1RS7T11j3drnk",
      "include_colab_link": true
    },
    "kernelspec": {
      "name": "python3",
      "display_name": "Python 3"
    },
    "language_info": {
      "name": "python"
    }
  },
  "cells": [
    {
      "cell_type": "markdown",
      "metadata": {
        "id": "view-in-github",
        "colab_type": "text"
      },
      "source": [
        "<a href=\"https://colab.research.google.com/github/Koder-Kartik/Python-Training/blob/main/Assignment/P10.ipynb\" target=\"_parent\"><img src=\"https://colab.research.google.com/assets/colab-badge.svg\" alt=\"Open In Colab\"/></a>"
      ]
    },
    {
      "cell_type": "code",
      "execution_count": 2,
      "metadata": {
        "colab": {
          "base_uri": "https://localhost:8080/"
        },
        "id": "PSYPgwjCKnDd",
        "outputId": "00982bd5-5511-4242-b9fc-0f261bb343a5"
      },
      "outputs": [
        {
          "output_type": "stream",
          "name": "stdout",
          "text": [
            "Enter number of people: 5\n",
            "Enter person (i+1) skill: 100\n",
            "Enter person (i+1) skill: 110\n",
            "Enter person (i+1) skill: 130\n",
            "Enter person (i+1) skill: 90\n",
            "Enter person (i+1) skill: 100\n",
            "Yes\n",
            "Yes\n",
            "Yes\n",
            "No\n",
            "Yes\n"
          ]
        }
      ],
      "source": [
        "minSkill = 100\n",
        "\n",
        "skills = []\n",
        "\n",
        "peoples = int(input(\"Enter number of people: \"))\n",
        "\n",
        "for i in range(peoples):\n",
        "  push = 45int(input(f\"Enter person (i+1) skill: \"))\n",
        "  skills.append(push) #because it is not taking push directly in\n",
        "\n",
        "for i in range(peoples):\n",
        "  if skills[i] >= minSkill:\n",
        "    print(\"Yes\")\n",
        "  else:\n",
        "    print(\"No\")"
      ]
    }
  ]
}