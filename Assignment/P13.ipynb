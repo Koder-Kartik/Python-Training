{
  "nbformat": 4,
  "nbformat_minor": 0,
  "metadata": {
    "colab": {
      "provenance": [],
      "authorship_tag": "ABX9TyMl4CvH8h1OWxUGwUh7oBMj",
      "include_colab_link": true
    },
    "kernelspec": {
      "name": "python3",
      "display_name": "Python 3"
    },
    "language_info": {
      "name": "python"
    }
  },
  "cells": [
    {
      "cell_type": "markdown",
      "metadata": {
        "id": "view-in-github",
        "colab_type": "text"
      },
      "source": [
        "<a href=\"https://colab.research.google.com/github/Koder-Kartik/Python-Training/blob/main/Assignment/P13.ipynb\" target=\"_parent\"><img src=\"https://colab.research.google.com/assets/colab-badge.svg\" alt=\"Open In Colab\"/></a>"
      ]
    },
    {
      "cell_type": "code",
      "execution_count": 4,
      "metadata": {
        "colab": {
          "base_uri": "https://localhost:8080/"
        },
        "id": "SkZw1GtMPMvU",
        "outputId": "dee0acdd-8630-4196-9adb-1b3f458d8a86"
      },
      "outputs": [
        {
          "output_type": "stream",
          "name": "stdout",
          "text": [
            "Enter number of stones: 13\n",
            "Suresh won\n"
          ]
        }
      ],
      "source": [
        "stones = int(input(\"Enter number of stones: \"))\n",
        "\n",
        "i = 1\n",
        "\n",
        "total = 0\n",
        "\n",
        "while True:\n",
        "  total += i\n",
        "  if total >= stones:\n",
        "    print(\"Suresh won\")\n",
        "    break\n",
        "\n",
        "  total += 2*1\n",
        "  if total >= stones:\n",
        "    print(\"Ramesh won\")\n",
        "    break\n",
        "\n",
        "i = i + 1"
      ]
    }
  ]
}