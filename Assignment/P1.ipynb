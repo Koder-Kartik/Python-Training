{
  "nbformat": 4,
  "nbformat_minor": 0,
  "metadata": {
    "colab": {
      "provenance": [],
      "authorship_tag": "ABX9TyNLwl4mB1felPUtPmMw14KQ",
      "include_colab_link": true
    },
    "kernelspec": {
      "name": "python3",
      "display_name": "Python 3"
    },
    "language_info": {
      "name": "python"
    }
  },
  "cells": [
    {
      "cell_type": "markdown",
      "metadata": {
        "id": "view-in-github",
        "colab_type": "text"
      },
      "source": [
        "<a href=\"https://colab.research.google.com/github/Koder-Kartik/Python-Training/blob/main/Assignment/P1.ipynb\" target=\"_parent\"><img src=\"https://colab.research.google.com/assets/colab-badge.svg\" alt=\"Open In Colab\"/></a>"
      ]
    },
    {
      "cell_type": "code",
      "execution_count": 4,
      "metadata": {
        "colab": {
          "base_uri": "https://localhost:8080/"
        },
        "id": "KGLaltBZsLvr",
        "outputId": "a5895713-fb4f-42ee-f514-78e012e3ded3"
      },
      "outputs": [
        {
          "output_type": "stream",
          "name": "stdout",
          "text": [
            "Enter angle: 60\n",
            "Radius: 42\n",
            "area of square is: 120.7801\n"
          ]
        }
      ],
      "source": [
        "#A wire is the form of Arc at an angle of 60 degrees and the radius of the arc is 42.\n",
        "#The wire is converted into a square. Find the area of the square.\n",
        "\n",
        "angle = int(input(\"Enter angle: \"))\n",
        "\n",
        "radius = int(input(\"Radius: \"))\n",
        "\n",
        "pi = 3.14\n",
        "\n",
        "lengthOfWire = (angle / 360)*2*pi*radius\n",
        "\n",
        "side = lengthOfWire/4\n",
        "\n",
        "area = side**2\n",
        "\n",
        "print(\"area of square is:\", area)"
      ]
    },
    {
      "cell_type": "code",
      "source": [],
      "metadata": {
        "id": "6_AEGk4-u7nI"
      },
      "execution_count": null,
      "outputs": []
    }
  ]
}