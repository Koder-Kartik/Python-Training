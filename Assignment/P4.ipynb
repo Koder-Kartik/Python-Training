{
  "nbformat": 4,
  "nbformat_minor": 0,
  "metadata": {
    "colab": {
      "provenance": [],
      "authorship_tag": "ABX9TyO7ypGjIRn2s+3iNDGtSE2o",
      "include_colab_link": true
    },
    "kernelspec": {
      "name": "python3",
      "display_name": "Python 3"
    },
    "language_info": {
      "name": "python"
    }
  },
  "cells": [
    {
      "cell_type": "markdown",
      "metadata": {
        "id": "view-in-github",
        "colab_type": "text"
      },
      "source": [
        "<a href=\"https://colab.research.google.com/github/Koder-Kartik/Python-Training/blob/main/Assignment/P4.ipynb\" target=\"_parent\"><img src=\"https://colab.research.google.com/assets/colab-badge.svg\" alt=\"Open In Colab\"/></a>"
      ]
    },
    {
      "cell_type": "code",
      "execution_count": 2,
      "metadata": {
        "id": "uZS434Vn2yQx",
        "colab": {
          "base_uri": "https://localhost:8080/"
        },
        "outputId": "c4d89d9f-2df0-4f1c-9e8d-4df4d0531225"
      },
      "outputs": [
        {
          "output_type": "stream",
          "name": "stdout",
          "text": [
            "Enter value in inches: 53.7\n",
            "\n",
            "53.7 inches is equal to:\n",
            "4.4750000000000005 feet\n",
            "1.4916666666666667 yards\n",
            "136.398 centimeters\n",
            "1.3639827279654562 meters\n"
          ]
        }
      ],
      "source": [
        "# Conversion program: Inches to Foot, Yard, Centimeter, Meter\n",
        "\n",
        "inches = float(input(\"Enter value in inches: \"))\n",
        "\n",
        "foot = inches / 12\n",
        "yard = inches / 36\n",
        "centimeters = inches * 2.54\n",
        "meter = inches / 39.37\n",
        "\n",
        "print(f\"\\n{inches} inches is equal to:\")\n",
        "print(f\"{foot} feet\")\n",
        "print(f\"{yard} yards\")\n",
        "print(f\"{centimeters} centimeters\")\n",
        "print(f\"{meter} meters\")\n"
      ]
    }
  ]
}