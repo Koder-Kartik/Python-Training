{
  "nbformat": 4,
  "nbformat_minor": 0,
  "metadata": {
    "colab": {
      "provenance": [],
      "authorship_tag": "ABX9TyNWGm9yrxHZEHbEyzC9xkhi",
      "include_colab_link": true
    },
    "kernelspec": {
      "name": "python3",
      "display_name": "Python 3"
    },
    "language_info": {
      "name": "python"
    }
  },
  "cells": [
    {
      "cell_type": "markdown",
      "metadata": {
        "id": "view-in-github",
        "colab_type": "text"
      },
      "source": [
        "<a href=\"https://colab.research.google.com/github/Koder-Kartik/Python-Training/blob/main/Assignment/P11.ipynb\" target=\"_parent\"><img src=\"https://colab.research.google.com/assets/colab-badge.svg\" alt=\"Open In Colab\"/></a>"
      ]
    },
    {
      "cell_type": "code",
      "execution_count": 10,
      "metadata": {
        "colab": {
          "base_uri": "https://localhost:8080/"
        },
        "id": "hxMKZUljHCrC",
        "outputId": "a391df8e-511d-497d-f371-d3dd75a1c680"
      },
      "outputs": [
        {
          "output_type": "stream",
          "name": "stdout",
          "text": [
            "Enter number of works: 2\n",
            "Enter starting hour of work 1: 1\n",
            "Enter starting minute of work (i+1): 44\n",
            "Enter ending hour of work 2: 2\n",
            "Enter ending minute of work (i+1): 14\n",
            "You worked 0 hr 30 min\n",
            "Enter starting hour of work 2: 2\n",
            "Enter starting minute of work (i+1): 42\n",
            "Enter ending hour of work 2: 8\n",
            "Enter ending minute of work (i+1): 23\n",
            "You worked 5 hr 41 min\n"
          ]
        }
      ],
      "source": [
        "works = int(input(\"Enter number of works: \"))\n",
        "\n",
        "for i in range(works):\n",
        "  SH= int(input(f\"Enter starting hour of work {i+1}: \"))\n",
        "  SM = int(input(f\"Enter starting minute of work (i+1): \"))\n",
        "  EH = int(input(f\"Enter ending hour of work {1+1}: \"))\n",
        "  EM= int(input(f\"Enter ending minute of work (i+1): \"))\n",
        "  start = SH * 60 + SM\n",
        "  end = EH * 60 + EM\n",
        "  duration = end - start\n",
        "  hours = duration // 60 #it removes the decimal part\n",
        "  minutes = duration % 60\n",
        "  print(f\"You worked {hours} hr {minutes} min\")"
      ]
    }
  ]
}