{
  "nbformat": 4,
  "nbformat_minor": 0,
  "metadata": {
    "colab": {
      "provenance": [],
      "authorship_tag": "ABX9TyPxFnP1vuN/iydEuJqUG81N",
      "include_colab_link": true
    },
    "kernelspec": {
      "name": "python3",
      "display_name": "Python 3"
    },
    "language_info": {
      "name": "python"
    }
  },
  "cells": [
    {
      "cell_type": "markdown",
      "metadata": {
        "id": "view-in-github",
        "colab_type": "text"
      },
      "source": [
        "<a href=\"https://colab.research.google.com/github/Koder-Kartik/Python-Training/blob/main/Assignment/P2.ipynb\" target=\"_parent\"><img src=\"https://colab.research.google.com/assets/colab-badge.svg\" alt=\"Open In Colab\"/></a>"
      ]
    },
    {
      "cell_type": "code",
      "execution_count": 2,
      "metadata": {
        "colab": {
          "base_uri": "https://localhost:8080/"
        },
        "id": "st0lhIaH0RiJ",
        "outputId": "f05d190e-3fc3-4bd2-f29c-0dd4540f4835"
      },
      "outputs": [
        {
          "output_type": "stream",
          "name": "stdout",
          "text": [
            "Enter first number: 1\n",
            "Enter second number: 2\n",
            "Enter third number: 3\n",
            "Greatest number is:  Third number\n"
          ]
        }
      ],
      "source": [
        "a = int(input(\"Enter first number: \"))\n",
        "\n",
        "b=int(input(\"Enter second number: \"))\n",
        "\n",
        "c=int(input(\"Enter third number: \"))\n",
        "\n",
        "max = \"first number\" if (a > b and a > c) else \"Second number\" if b > c else \"Third number\"\n",
        "\n",
        "print(\"Greatest number is: \",max)"
      ]
    }
  ]
}