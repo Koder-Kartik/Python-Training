{
  "nbformat": 4,
  "nbformat_minor": 0,
  "metadata": {
    "colab": {
      "provenance": [],
      "authorship_tag": "ABX9TyO2P/z8zpYq5NcouD4qy2hB",
      "include_colab_link": true
    },
    "kernelspec": {
      "name": "python3",
      "display_name": "Python 3"
    },
    "language_info": {
      "name": "python"
    }
  },
  "cells": [
    {
      "cell_type": "markdown",
      "metadata": {
        "id": "view-in-github",
        "colab_type": "text"
      },
      "source": [
        "<a href=\"https://colab.research.google.com/github/Koder-Kartik/Python-Training/blob/main/Assignment/P6.ipynb\" target=\"_parent\"><img src=\"https://colab.research.google.com/assets/colab-badge.svg\" alt=\"Open In Colab\"/></a>"
      ]
    },
    {
      "cell_type": "code",
      "execution_count": 10,
      "metadata": {
        "colab": {
          "base_uri": "https://localhost:8080/"
        },
        "id": "Ds-h2wzg7KOh",
        "outputId": "2fd7d713-4fc8-4be5-a17c-58d28462b8d7"
      },
      "outputs": [
        {
          "output_type": "stream",
          "name": "stdout",
          "text": [
            "Enter number: 3\n",
            "Enter first number: 24\n",
            "Enter second number: 1\n",
            "final output is 34\n",
            "Enter first number: 4358\n",
            "Enter second number: 754\n",
            "final output is 1998\n",
            "Enter first number: 305\n",
            "Enter second number: 794\n",
            "final output is 1\n"
          ]
        }
      ],
      "source": [
        "def reverse(k):\n",
        "  rev = 0\n",
        "  while k > 0:\n",
        "    digit = k % 10\n",
        "    rev = rev * 10 + digit\n",
        "    k = k // 10\n",
        "  return rev\n",
        "\n",
        "n = int(input(\"Enter number: \"))\n",
        "\n",
        "for i in range(n):\n",
        "  a = int(input(\"Enter first number: \"))\n",
        "  b = int(input(\"Enter second number: \"))\n",
        "  arev = reverse(a)\n",
        "  brev = reverse(b)\n",
        "  sum = arev + brev\n",
        "  sumrev = reverse(sum)\n",
        "  print(f\"final output is {sumrev}\")"
      ]
    },
    {
      "cell_type": "code",
      "source": [],
      "metadata": {
        "id": "M1J_a_gQEteV"
      },
      "execution_count": 2,
      "outputs": []
    }
  ]
}